{
  "cells": [
    {
      "cell_type": "markdown",
      "metadata": {
        "id": "view-in-github",
        "colab_type": "text"
      },
      "source": [
        "<a href=\"https://colab.research.google.com/github/matthew-liu-zhenjie/GitWork_Sandbox/blob/main/A0230317U_Assignment1.ipynb\" target=\"_parent\"><img src=\"https://colab.research.google.com/assets/colab-badge.svg\" alt=\"Open In Colab\"/></a>"
      ]
    },
    {
      "cell_type": "markdown",
      "metadata": {
        "id": "CVPc7r7Cs_f4"
      },
      "source": [
        "# CS3244 Assignment 1\n",
        "\n",
        "We have seen the mathematical derivation of linear regression in class. In this problem, we shall convert that abstract understanding into implementation. You are encouraged to read this [introduction to linear algebra using PyTorch](https://d2l.ai/chapter_preliminaries/linear-algebra.html) before attempting if you have no prior experience with PyTorch."
      ]
    },
    {
      "cell_type": "code",
      "execution_count": null,
      "metadata": {
        "id": "okxEvdEjtKVz"
      },
      "outputs": [],
      "source": [
        "import matplotlib.pyplot as plt\n",
        "import requests\n",
        "import torch"
      ]
    },
    {
      "cell_type": "code",
      "execution_count": null,
      "metadata": {
        "id": "sxOrid8Olvhu"
      },
      "outputs": [],
      "source": [
        "test_seed = 0\n",
        "\n",
        "class TestCaseError(Exception):\n",
        "    pass\n",
        "\n",
        "def test_allclose(input, other):\n",
        "    if input.shape != other.shape:\n",
        "        raise TestCaseError(\"Wrong dimension\")\n",
        "    if not torch.allclose(input, other, atol=0.0002):\n",
        "        raise TestCaseError(\"Wrong solution\")\n",
        "    return True"
      ]
    },
    {
      "cell_type": "markdown",
      "metadata": {
        "id": "T4avZCG82AJt"
      },
      "source": [
        "### Problem 0\n",
        "\n",
        "Let us start with some administrative matters. Follow the instruction [here](https://docs.google.com/document/d/1-D06Tb-ylRNM5ja6iAuB5kxOGDybJOVLZvqEvzczH4Y/edit?usp=sharing) to set up your notebook ."
      ]
    },
    {
      "cell_type": "markdown",
      "metadata": {
        "id": "I4J7chq9tGTC"
      },
      "source": [
        "From a probablistic perspective, we assume that there are some true weights $w_*$ that governs the relationship between inputs $X$ and targets $t$. In particular, $t\\sim\\mathcal{N}(w_*^\\top x, \\sigma^2)$. The `generate_1d_linear_data` function implements this sampling process. Specifically, it takes $w_*$ as `weights_true`, $m$ as `num_samples`, and outputs $X$ as `inputs` and $t$ as `targets`. Certainly, we are not going to have this generative process in practice, but it is useful to use such toy examples for enchancing our understanding of a topic. "
      ]
    },
    {
      "cell_type": "code",
      "execution_count": null,
      "metadata": {
        "id": "1zkjIzO_zoiX"
      },
      "outputs": [],
      "source": [
        "def generate_1d_linear_data(weights_true, num_samples):\n",
        "    uniform = torch.distributions.uniform.Uniform(0, 5)\n",
        "    normal = torch.distributions.normal.Normal(0, 1)\n",
        "    inputs, _ = torch.sort(uniform.sample([num_samples, 1]))\n",
        "    augmented_inputs = torch.hstack((torch.ones(num_samples, 1), inputs))\n",
        "    targets = augmented_inputs @ weights_true + normal.sample([num_samples])\n",
        "    return inputs, targets"
      ]
    },
    {
      "cell_type": "code",
      "execution_count": null,
      "metadata": {
        "colab": {
          "base_uri": "https://localhost:8080/",
          "height": 265
        },
        "id": "IHfL_yf9QK5-",
        "outputId": "bdc56899-f7ad-4aaa-ae13-e747908713b7"
      },
      "outputs": [
        {
          "output_type": "display_data",
          "data": {
            "text/plain": [
              "<Figure size 432x288 with 1 Axes>"
            ],
            "image/png": "[encoded data removed]"
          },
          "metadata": {
            "needs_background": "light"
          }
        }
      ],
      "source": [
        "torch.manual_seed(test_seed)\n",
        "weights_true = torch.tensor([2., 3.])\n",
        "inputs, targets = generate_1d_linear_data(weights_true, 30)\n",
        "\n",
        "fig, ax = plt.subplots()\n",
        "ax.scatter(inputs, targets)\n",
        "fig.show()"
      ]
    },
    {
      "cell_type": "markdown",
      "metadata": {
        "id": "EEiFOEuzDEqB"
      },
      "source": [
        "Recall that the goal of linear regression is to find a $\\hat{w}$ that best approximates the unknown $w_*$ using $X$ and $t$. As such, you should not use $w_*$ from here onwards."
      ]
    },
    {
      "cell_type": "markdown",
      "metadata": {
        "id": "C_dkpj3GQ18b"
      },
      "source": [
        "### Problem 1\n",
        "\n",
        "A common trick used to deal with the bias (or offset) term is to augment the input vector $x=[x_1,\\dots,x_D]$ with $x_0=1$. This allows us to simplify the computation of\n",
        "\n",
        "$$y(x)=w_0+\\sum_{i=1}^D w_i x_i,$$\n",
        "\n",
        "into a simple vector multiplication $y(x)=w^\\top x$. Implement the `augment_linear_inputs` function with the following specifications:\n",
        "\n",
        "**Input**\n",
        "\n",
        "- `inputs`: the input matrix $X\\in\\mathbb{R}^{N\\times D}$\n",
        "\n",
        "**Output**\n",
        "\n",
        "- the augmented input matrix where each row starts with 1"
      ]
    },
    {
      "cell_type": "code",
      "execution_count": null,
      "metadata": {
        "id": "e20u603kQv2y"
      },
      "outputs": [],
      "source": [
        "def augment_linear_inputs(inputs):\n",
        "    mtrx_shape = (inputs.size()[0],1)\n",
        "    ones_matrx = torch.ones(mtrx_shape)\n",
        "    augmented_inputs = torch.cat((ones_matrx, inputs), 1)\n",
        "    return augmented_inputs"
      ]
    },
    {
      "cell_type": "code",
      "execution_count": null,
      "metadata": {
        "colab": {
          "base_uri": "https://localhost:8080/"
        },
        "id": "S11dTaH_QlQq",
        "outputId": "5b7ea788-5115-4567-d1a4-e6caa39f8f6a"
      },
      "outputs": [
        {
          "output_type": "stream",
          "name": "stdout",
          "text": [
            "Public testcase for augment_linear_inputs: True\n"
          ]
        }
      ],
      "source": [
        "# Public testcase for augment_linear_inputs\n",
        "\n",
        "torch.manual_seed(test_seed)\n",
        "weights_true = torch.tensor([2., 3.])\n",
        "inputs, targets = generate_1d_linear_data(weights_true, 3)\n",
        "\n",
        "augmented_inputs = augment_linear_inputs(inputs)\n",
        "expected_augmented_inputs = torch.tensor([[1.0000, 2.4813], [1.0000, 3.8411], [1.0000, 0.4424]])\n",
        "is_correct = test_allclose(augmented_inputs, expected_augmented_inputs)\n",
        "print(f\"Public testcase for augment_linear_inputs: {is_correct}\")"
      ]
    },
    {
      "cell_type": "markdown",
      "metadata": {
        "id": "cKmLGIsOEUyV"
      },
      "source": [
        "### Problem 2\n",
        "\n",
        "Implement the `error_gradient` function with the following specifications:\n",
        "\n",
        "**Input**\n",
        "\n",
        "- `weights_current`: the current weights $\\hat{w}\\in\\mathbb{R}^{D+1}$ \n",
        "- `inputs`: the input matrix $X\\in\\mathbb{R}^{N\\times(D+1)}$ \n",
        "- `targets`: the target vector $t\\in\\mathbb{R}^N$ \n",
        "\n",
        "**Output**\n",
        "\n",
        "- the gradient of the error function $\\nabla_w E(w)$\n",
        "\n",
        "**Notes**\n",
        "\n",
        "Note that the input is already augmented, hence the $D+1$ in dimension. On a separate note, you should write your code to work for arbitrary dimension $D$. This will be utilized from Problem 6 onwards. "
      ]
    },
    {
      "cell_type": "code",
      "execution_count": null,
      "metadata": {
        "id": "qETRTeYQjHpj"
      },
      "outputs": [],
      "source": [
        "def error_gradient(weights_current, inputs, targets):\n",
        "    gradient = torch.matmul(torch.matmul(torch.t(inputs), inputs), weights_current) - torch.matmul(torch.t(inputs), targets)\n",
        "    return gradient"
      ]
    },
    {
      "cell_type": "code",
      "execution_count": null,
      "metadata": {
        "colab": {
          "base_uri": "https://localhost:8080/"
        },
        "id": "G-N8PcQ0P9zg",
        "outputId": "852ffa63-b073-4eb8-b3d4-f6eabcbfd992"
      },
      "outputs": [
        {
          "output_type": "stream",
          "name": "stdout",
          "text": [
            "Public testcase for error_gradient: True\n"
          ]
        }
      ],
      "source": [
        "# Public testcase for error_gradient\n",
        "\n",
        "torch.manual_seed(test_seed)\n",
        "weights_true = torch.tensor([2., 3.])\n",
        "inputs, targets = generate_1d_linear_data(weights_true, 3)\n",
        "weights_current = torch.tensor([1., 1.])\n",
        "augmented_inputs = augment_linear_inputs(inputs)\n",
        "\n",
        "gradient = error_gradient(weights_current, augmented_inputs, targets)\n",
        "expected_gradient = torch.tensor([-17.1925, -50.4709])\n",
        "is_correct = test_allclose(gradient, expected_gradient)\n",
        "print(f\"Public testcase for error_gradient: {is_correct}\")"
      ]
    },
    {
      "cell_type": "markdown",
      "metadata": {
        "id": "ub0qRiPEFkr0"
      },
      "source": [
        "### Problem 3\n",
        "\n",
        "Implement the `gradient_descent` function with the following specificiations:\n",
        "\n",
        "**Input**\n",
        "\n",
        "- `weights_initial`: the initial guess for the weights $\\hat{w}\\in\\mathbb{R}^{D+1}$ \n",
        "- `inputs`: the input matrix $X\\in\\mathbb{R}^{N\\times(D+1)}$ \n",
        "- `targets`: the target vector $t\\in\\mathbb{R}^N$ \n",
        "- `learning_rate`: the learning rate $\\alpha$\n",
        "- `num_iterations`: the number of updates to the weights\n",
        "\n",
        "**Output**\n",
        "\n",
        "- the learned weights $\\hat{w}$ after performing gradient descent on the data"
      ]
    },
    {
      "cell_type": "code",
      "execution_count": null,
      "metadata": {
        "id": "-jRNSNHVjV9Y"
      },
      "outputs": [],
      "source": [
        "def gradient_descent(weights_initial, inputs, targets, learning_rate, num_iterations):\n",
        "    weights_learned = weights_initial\n",
        "    iterations = 0\n",
        "    for i in range(0,num_iterations):\n",
        "      error = error_gradient(weights_learned, inputs, targets)\n",
        "      weights_learned -= learning_rate*error\n",
        "    return weights_learned"
      ]
    },
    {
      "cell_type": "code",
      "execution_count": null,
      "metadata": {
        "colab": {
          "base_uri": "https://localhost:8080/"
        },
        "id": "q7Is8r5ZoGIN",
        "outputId": "a8ad346a-3de8-4489-81bb-6b246b4f8242"
      },
      "outputs": [
        {
          "output_type": "stream",
          "name": "stdout",
          "text": [
            "Public testcase for gradient_descent: True\n"
          ]
        }
      ],
      "source": [
        "# Public testcase for gradient_descent\n",
        "\n",
        "torch.manual_seed(test_seed)\n",
        "weights_true = torch.tensor([2., 3.])\n",
        "inputs, targets = generate_1d_linear_data(weights_true, 3)\n",
        "augmented_inputs = augment_linear_inputs(inputs)\n",
        "weights_initial = torch.tensor([1., 1.])\n",
        "learning_rate = 0.001\n",
        "num_iterations = 20\n",
        "\n",
        "weights_learned = gradient_descent(weights_initial, augmented_inputs, targets, learning_rate, num_iterations)\n",
        "expected_weights_learned = torch.tensor([1.2787, 1.8135])\n",
        "is_correct = test_allclose(weights_learned, expected_weights_learned)\n",
        "print(f\"Public testcase for gradient_descent: {is_correct}\")"
      ]
    },
    {
      "cell_type": "markdown",
      "metadata": {
        "id": "bJYXte2PH5O_"
      },
      "source": [
        "### Problem 4\n",
        "\n",
        "Implement the `visualize_linear_model` function with the following specificiations. You are encouraged to read the [Basic Usage](https://matplotlib.org/stable/tutorials/introductory/usage.html#sphx-glr-tutorials-introductory-usage-py) and [Pyplot Tutorial](https://matplotlib.org/stable/tutorials/introductory/pyplot.html#sphx-glr-tutorials-introductory-pyplot-py) if you have no prior experience with Matplotlib. When plotting, adhere to the OO-style described in the [Coding Styles](https://matplotlib.org/stable/tutorials/introductory/usage.html#coding-styles) section.\n",
        "\n",
        "**Input**\n",
        "\n",
        "- `weights_current`: the weights vector $\\hat{w}\\in\\mathbb{R}^2$ \n",
        "- `inputs`: the input matrix $X\\in\\mathbb{R}^{N\\times 2}$ \n",
        "- `targets`: the target vector $t\\in\\mathbb{R}^N$ \n",
        "\n",
        "**Output**\n",
        "\n",
        "- a `matplotlib` figure with\n",
        "    - a <font color=\"red\">red</font> scatter plot of `inputs` and `targets`\n",
        "    - a <font color=\"green\">green</font> line plot described by the `weights` vector\n",
        "\n",
        "**Example**\n",
        "\n",
        "If done right, your output should look like this (without the scribbles).\n",
        "\n",
        "![index.png](https://drive.google.com/uc?export=view&id=1AajXyexn7yoy8GHZDX8z99356OhMSNC1)\n",
        "\n",
        "**Notes**\n",
        "\n",
        "This only works for $D=1$."
      ]
    },
    {
      "cell_type": "code",
      "execution_count": null,
      "metadata": {
        "id": "238ZH9ZkHuL1"
      },
      "outputs": [],
      "source": [
        "def visualize_linear_model(weights_current, inputs, targets):\n",
        "    fig, ax = plt.subplots()\n",
        "    fresh_inputs = torch.flatten(torch.split(torch.t(inputs), 1)[1])\n",
        "    ax.scatter(fresh_inputs, targets, color = 'green')\n",
        "    ax.plot(fresh_inputs, torch.matmul(inputs, weights_current), color = 'red')\n",
        "    ax.set_xlabel('x') \n",
        "    ax.set_ylabel('y')\n",
        "    return fig"
      ]
    },
    {
      "cell_type": "markdown",
      "metadata": {
        "id": "sIbgcbhvMIaO"
      },
      "source": [
        "Let us see your code in action. The following code set the initial weights and hyperparameters, compute the learned weights using your `gradient_descent` function, and visualize the learned curve using your `visualize_model` function. If your curve fits the data and the `weights_learned` are close to $w_*=[2.0,3.0]$, you code is most likely correct."
      ]
    },
    {
      "cell_type": "code",
      "execution_count": null,
      "metadata": {
        "colab": {
          "base_uri": "https://localhost:8080/",
          "height": 296
        },
        "id": "sYjgQV19JM2V",
        "outputId": "23dbb526-1b6e-4414-b25a-e3b9ad7a9bc0"
      },
      "outputs": [
        {
          "output_type": "stream",
          "name": "stdout",
          "text": [
            "Model weights are [1.7107689380645752, 3.080777406692505]\n"
          ]
        },
        {
          "output_type": "display_data",
          "data": {
            "text/plain": [
              "<Figure size 432x288 with 1 Axes>"
            ],
            "image/png": "[encoded data removed]"
          },
          "metadata": {
            "needs_background": "light"
          }
        }
      ],
      "source": [
        "# Public testcase for visualize_linear_model\n",
        "\n",
        "torch.manual_seed(test_seed)\n",
        "weights_true = torch.tensor([2., 3.])\n",
        "inputs, targets = generate_1d_linear_data(weights_true, 30)\n",
        "augmented_inputs = augment_linear_inputs(inputs)\n",
        "weights_initial = torch.tensor([1., 1.])\n",
        "learning_rate = 0.001\n",
        "num_iterations = 20\n",
        "\n",
        "weights_learned = gradient_descent(weights_initial, augmented_inputs, targets, learning_rate, num_iterations)\n",
        "print(f\"Model weights are {weights_learned.tolist()}\")\n",
        "fig = visualize_linear_model(weights_learned, augmented_inputs, targets)\n",
        "fig.show()"
      ]
    },
    {
      "cell_type": "markdown",
      "metadata": {
        "id": "pPN1NAKjQpyK"
      },
      "source": [
        "### Problem 5\n",
        "\n",
        "In the previous code block, we have arbitrarily set $\\alpha=0.001$. Let us explore the effect of the learning rate in more detail. To do so, we want to visualize the error over the training process. Implement the `gradient_descent_with_logger` with the following specifications.\n",
        "\n",
        "**Input**\n",
        "\n",
        "- `weights_initial`: the initial guess for the weights $\\hat{w}\\in\\mathbb{R}^{D+1}$ \n",
        "- `inputs`: the input matrix $X\\in\\mathbb{R}^{N\\times(D+1)}$ \n",
        "- `targets`: the target vector $t\\in\\mathbb{R}^N$ \n",
        "- `learning_rate`: the learning rate $\\alpha$\n",
        "- `num_iterations`: the number of updates to the weights\n",
        "\n",
        "**Output**\n",
        "\n",
        "- the learned weights $\\hat{w}$ after performing gradient descent on the data\n",
        "- a PyTorch 1D-tensor of the error after each iteration of gradient descent (including the error before and after the training)"
      ]
    },
    {
      "cell_type": "code",
      "execution_count": null,
      "metadata": {
        "id": "f9NEIyESR3ah"
      },
      "outputs": [],
      "source": [
        "def gradient_descent_with_logger(weights_initial, inputs, targets, learning_rate, num_iterations):\n",
        "    weights_learned = weights_initial\n",
        "    error_log = []\n",
        "    iterations = 0\n",
        "    for i in range(0,num_iterations):\n",
        "      #error = torch.matmul(torch.matmul(torch.t(inputs), inputs), weights_learned) - torch.matmul(torch.t(inputs), targets)\n",
        "\n",
        "      error = 0.5*torch.sum((weights_learned@(inputs.T) - targets)**2)\n",
        "      \n",
        "      error_log.append(error)\n",
        "      weights_learned -= learning_rate*error_gradient(weights_learned, inputs, targets)\n",
        "    error_log.append(0.5*torch.sum((inputs@(weights_learned.T) - targets)**2))\n",
        "    errors = torch.tensor(error_log)\n",
        "    return weights_learned, errors\n"
      ]
    },
    {
      "cell_type": "code",
      "execution_count": null,
      "metadata": {
        "colab": {
          "base_uri": "https://localhost:8080/"
        },
        "id": "xqSJDbWvrVSl",
        "outputId": "628e6344-0934-45f3-8b06-b75d49f6ce45"
      },
      "outputs": [
        {
          "output_type": "stream",
          "name": "stdout",
          "text": [
            "Public testcase for gradient_descent_with_logger: True\n"
          ]
        },
        {
          "output_type": "stream",
          "name": "stderr",
          "text": [
            "/usr/local/lib/python3.7/dist-packages/ipykernel_launcher.py:12: UserWarning: The use of `x.T` on tensors of dimension other than 2 to reverse their shape is deprecated and it will throw an error in a future release. Consider `x.mT` to transpose batches of matricesor `x.permute(*torch.arange(x.ndim - 1, -1, -1))` to reverse the dimensions of a tensor. (Triggered internally at  ../aten/src/ATen/native/TensorShape.cpp:2318.)\n",
            "  if sys.path[0] == '':\n"
          ]
        }
      ],
      "source": [
        "# Public testcase for gradient_descent_with_logger\n",
        "\n",
        "torch.manual_seed(test_seed)\n",
        "weights_true = torch.tensor([2., 3.])\n",
        "inputs, targets = generate_1d_linear_data(weights_true, 30)\n",
        "augmented_inputs = augment_linear_inputs(inputs)\n",
        "weights_initial = torch.tensor([1., 1.])\n",
        "learning_rate = 0.001\n",
        "num_iterations = 5\n",
        "\n",
        "_, error = gradient_descent_with_logger(weights_initial, augmented_inputs, targets, learning_rate, num_iterations)\n",
        "expected_error = torch.tensor([597.8280, 349.5298, 206.3568, 123.8006, 76.1970, 48.7477])\n",
        "is_correct = test_allclose(error, expected_error)\n",
        "print(f\"Public testcase for gradient_descent_with_logger: {is_correct}\")"
      ]
    },
    {
      "cell_type": "markdown",
      "metadata": {
        "id": "HGcVYRbuSvhJ"
      },
      "source": [
        "### Problem 6\n",
        "\n",
        "To visualize the effect of the learning rate $\\alpha$, we want to plot the error curve for multiple learning rates. Implement the `visualize_error` function with the following specificiations.\n",
        "\n",
        "**Input**\n",
        "\n",
        "- `weights_initial`: the initial guess for the weights $\\hat{w}\\in\\mathbb{R}^2$ \n",
        "- `inputs`: the input matrix $X\\in\\mathbb{R}^{N\\times 2}$ \n",
        "- `targets`: the target vector $t\\in\\mathbb{R}^N$ \n",
        "- `learning_rates`: an array of learning rates that we want to include in the visualization of the error curve\n",
        "- `num_iterations`: the number of updates to the weights\n",
        "\n",
        "**Output**\n",
        "\n",
        "- a `matplotlib` figure with\n",
        "    - a line plot for each error curve\n",
        "    - a legend associating the learning rate to each error curve\n",
        "\n",
        "**Example**\n",
        "\n",
        "If done right, your output should look like this (without the scribbles).\n",
        "\n",
        "![index.png](https://drive.google.com/uc?export=view&id=13Stf3A-77xOu6xreK-eQFuNS4W_yHfmm)"
      ]
    },
    {
      "cell_type": "code",
      "execution_count": null,
      "metadata": {
        "id": "29kVEwSVUULA"
      },
      "outputs": [],
      "source": [
        "def visualize_errors(weights_initial, inputs, targets, learning_rates, num_iterations):\n",
        "    fig, ax = plt.subplots()\n",
        "    results = []\n",
        "    weights_list = []\n",
        "    for i in range (0, len(learning_rates)):\n",
        "      weights_list.append(torch.clone(weights_initial))\n",
        "    for i in range(0,len(learning_rates)):\n",
        "      rate = learning_rates[i]\n",
        "      result = gradient_descent_with_logger(weights_list[i], inputs, targets, rate, num_iterations)\n",
        "      results.append(result[1])\n",
        "    for result in results:\n",
        "      ax.plot(result)\n",
        "      ax.legend(['0.0003',  '0.001', '0.003', '0.009'])\n",
        "    return fig\n"
      ]
    },
    {
      "cell_type": "markdown",
      "metadata": {
        "id": "YKVD-leGb05i"
      },
      "source": [
        "Let us see your code in action again. The following code set the initial weights, provide a set of learning rates, and visualize the error curves for these learning rates. Can you give an explanation for your observation?"
      ]
    },
    {
      "cell_type": "code",
      "execution_count": null,
      "metadata": {
        "colab": {
          "base_uri": "https://localhost:8080/",
          "height": 269
        },
        "id": "FkgMqCylSUwK",
        "outputId": "cafb9df8-f552-4a93-b27a-71cc5b248e00"
      },
      "outputs": [
        {
          "output_type": "display_data",
          "data": {
            "text/plain": [
              "<Figure size 432x288 with 1 Axes>"
            ],
            "image/png": "[encoded data removed]"
          },
          "metadata": {
            "needs_background": "light"
          }
        }
      ],
      "source": [
        "# Public testcase for visualize_errors\n",
        "\n",
        "torch.manual_seed(test_seed)\n",
        "weights_true = torch.tensor([2., 3.])\n",
        "inputs, targets = generate_1d_linear_data(weights_true, 30)\n",
        "augmented_inputs = augment_linear_inputs(inputs)\n",
        "weights_initial = torch.tensor([1., 1.])\n",
        "learning_rates = [ 0.0003, 0.001, 0.003, 0.009 ]\n",
        "num_iterations = 20\n",
        "\n",
        "fig = visualize_errors(weights_initial, augmented_inputs, targets, learning_rates, num_iterations)\n",
        "fig.axes[0].set_ylim([0, 1000])\n",
        "fig.show()"
      ]
    },
    {
      "cell_type": "markdown",
      "metadata": {
        "id": "qQzkOtofO5mi"
      },
      "source": [
        "Let us now shift our focus to fitting nonlinear functions. As mentioned prior to Problem 1,\n",
        "\n",
        "> From a probablistic perspective, we assume that there are some true weights $w_*$ that governs the relationship between inputs $X$ and targets $t$. In particular, $t\\sim\\mathcal{N}(w_*^\\top x, \\sigma^2)$.\n",
        "\n",
        "Instead of $y(x)=w_*^\\top x$, let us assume that the underlying process $t(x)=a+bx+\\ln(x^c)$ for some weight vector $w_*=[a,b,c]=[3,-2,5]$."
      ]
    },
    {
      "cell_type": "code",
      "execution_count": null,
      "metadata": {
        "id": "KTIkfnx3J5tU"
      },
      "outputs": [],
      "source": [
        "def generate_1d_nonlinear_data(weights_true, num_samples):\n",
        "    uniform = torch.distributions.uniform.Uniform(1, 5)\n",
        "    normal = torch.distributions.normal.Normal(0, 0.1)\n",
        "    inputs, _ = torch.sort(uniform.sample([num_samples, 1]), dim=0)\n",
        "    targets = weights_true[0] * torch.ones([num_samples]) + \\\n",
        "              weights_true[1] * inputs[:,0] + \\\n",
        "              torch.log(inputs[:,0] ** weights_true[2]) + \\\n",
        "              normal.sample([num_samples])\n",
        "    return inputs, targets"
      ]
    },
    {
      "cell_type": "code",
      "execution_count": null,
      "metadata": {
        "colab": {
          "base_uri": "https://localhost:8080/",
          "height": 265
        },
        "id": "IAuSLlfaYOfQ",
        "outputId": "8de82bb1-65c6-47b6-d072-820611556415"
      },
      "outputs": [
        {
          "output_type": "display_data",
          "data": {
            "text/plain": [
              "<Figure size 432x288 with 1 Axes>"
            ],
            "image/png": "[encoded data removed]"
          },
          "metadata": {
            "needs_background": "light"
          }
        }
      ],
      "source": [
        "torch.manual_seed(test_seed)\n",
        "weights_true = torch.Tensor([3., -2., 5.])\n",
        "inputs, targets = generate_1d_nonlinear_data(weights_true, 50)\n",
        "\n",
        "fig, ax = plt.subplots()\n",
        "ax.scatter(inputs, targets)\n",
        "fig.show()"
      ]
    },
    {
      "cell_type": "markdown",
      "metadata": {
        "id": "NXtmq0MLXoXt"
      },
      "source": [
        "Also from Problem 1,\n",
        "\n",
        "> Certainly, we are not going to have this generative process in practice, but it is useful to use such toy examples for enchancing our understanding of a topic. \n",
        "\n",
        "As usual, you should not use your knowledge of $w_*$ from here onwards. To fit this nonlinear curve, we need to use a basis function. Assuming we know the form, but not the exact parameters, of the underlying process, can you see why $\\phi(x)=[1,x,\\ln(x)]$ is a good choice of basis function?"
      ]
    },
    {
      "cell_type": "markdown",
      "metadata": {
        "id": "hX4fnwf0Iyy9"
      },
      "source": [
        "### Problem 7\n",
        "\n",
        "Implement the `basis_function` function with the following specifications.\n",
        "\n",
        "**Input**\n",
        "\n",
        "- `inputs`: the input matrix $X\\in\\mathbb{R}^{N\\times 1}$\n",
        "\n",
        "**Output**\n",
        "\n",
        "- the mapped input $\\phi(X)\\in\\mathbb{R}^{N\\times 3}$ where each row is $\\phi(x)=[1,x,\\ln(x)]$"
      ]
    },
    {
      "cell_type": "code",
      "execution_count": null,
      "metadata": {
        "id": "-S3pF9RlIyOu"
      },
      "outputs": [],
      "source": [
        "def basis_function(inputs):\n",
        "    mapped_inputs = torch.empty(len(inputs), 3)\n",
        "    for i in range (0, len(inputs)):\n",
        "      mapped_inputs[i][0] = 1\n",
        "      mapped_inputs[i][1] = inputs[i]\n",
        "      mapped_inputs[i][2] = torch.log(inputs[i])\n",
        "    #print(mapped_inputs)\n",
        "    return mapped_inputs\n"
      ]
    },
    {
      "cell_type": "code",
      "execution_count": null,
      "metadata": {
        "colab": {
          "base_uri": "https://localhost:8080/"
        },
        "id": "-Yu0Hs5utDYa",
        "outputId": "93c60c49-63fd-4eee-867f-8b87c530bc24"
      },
      "outputs": [
        {
          "output_type": "stream",
          "name": "stdout",
          "text": [
            "Public testcase for basis_function: True\n"
          ]
        }
      ],
      "source": [
        "# Public testcase for basis_function\n",
        "\n",
        "torch.manual_seed(test_seed)\n",
        "weights_true = torch.Tensor([3., -2., 5.])\n",
        "inputs, targets = generate_1d_nonlinear_data(weights_true, 3)\n",
        "\n",
        "mapped_inputs = basis_function(inputs.clone())\n",
        "expected_mapped_inputs = torch.tensor([[1.0000, 1.3539, 0.3030], [1.0000, 2.9850, 1.0936], [1.0000, 4.0729, 1.4044]])\n",
        "is_correct = test_allclose(mapped_inputs, expected_mapped_inputs)\n",
        "print(f\"Public testcase for basis_function: {is_correct}\")"
      ]
    },
    {
      "cell_type": "markdown",
      "metadata": {
        "id": "9Z9zwAJzj4fI"
      },
      "source": [
        "### Problem 8\n",
        "\n",
        "Implement the `visualize_nonlinear_model` function with the following specificiations.\n",
        "\n",
        "**Input**\n",
        "\n",
        "- `weights_current`: the weights vector $\\hat{w}\\in\\mathbb{R}^3$ \n",
        "- `inputs`: the input matrix $X\\in\\mathbb{R}^{N\\times 3}$ \n",
        "- `targets`: the target vector $t\\in\\mathbb{R}^N$ \n",
        "\n",
        "**Output**\n",
        "\n",
        "- a `matplotlib` figure with\n",
        "    - a <font color=\"red\">red</font> scatter plot of `inputs` and `targets`\n",
        "    - a <font color=\"green\">green</font> line plot described by the `weights` vector\n",
        "\n",
        "**Example**\n",
        "\n",
        "If done right, your output should look like this (without the scribbles).\n",
        "\n",
        "![index.png](https://drive.google.com/uc?export=view&id=12zoYCphS93pgAMNn5-zjV9atFcaUXvSp)\n",
        "\n",
        "**Notes**\n",
        "\n",
        "This only works for your choice of basis function."
      ]
    },
    {
      "cell_type": "code",
      "execution_count": null,
      "metadata": {
        "id": "mWLnTh-BZ1t-"
      },
      "outputs": [],
      "source": [
        "def visualize_nonlinear_model(weights_current, inputs, targets):\n",
        "    fig, ax = plt.subplots()\n",
        "    input_vals = []\n",
        "    output_vals = []\n",
        "    for i in inputs:\n",
        "      input_vals.append(i[1])\n",
        "      \n",
        "    ax.scatter(input_vals, targets, color='red')\n",
        "    ax.plot(input_vals, inputs@(weights_current.T), color='green')\n",
        "    #ax.plot()\n",
        "    #raise NotImplementedError()\n",
        "    return fig"
      ]
    },
    {
      "cell_type": "markdown",
      "metadata": {
        "id": "lj2aaFkYlCcZ"
      },
      "source": [
        "Let us put everything together. Note that if you implement `gradient_descent_with_logger` correctly, you should not need to make any modification on those functions here."
      ]
    },
    {
      "cell_type": "code",
      "execution_count": null,
      "metadata": {
        "colab": {
          "base_uri": "https://localhost:8080/",
          "height": 282
        },
        "id": "fI90RG5hZpDC",
        "outputId": "32d69a7e-a417-4fa5-9f9d-87b6acc2bb05"
      },
      "outputs": [
        {
          "output_type": "stream",
          "name": "stdout",
          "text": [
            "Model has an error of 12.644\n"
          ]
        },
        {
          "output_type": "display_data",
          "data": {
            "text/plain": [
              "<Figure size 432x288 with 1 Axes>"
            ],
            "image/png": "[encoded data removed]"
          },
          "metadata": {
            "needs_background": "light"
          }
        }
      ],
      "source": [
        "# Public testcase for visualize_nonlinear_model\n",
        "\n",
        "torch.manual_seed(test_seed)\n",
        "weights_true = torch.Tensor([3., -2., 5.])\n",
        "inputs, targets = generate_1d_nonlinear_data(weights_true, 50)\n",
        "mapped_inputs = basis_function(inputs)\n",
        "weights_initial = torch.Tensor([1., 1., 1.])\n",
        "learning_rate = 0.001\n",
        "num_iterations = 20\n",
        "\n",
        "weights_learned, errors = gradient_descent_with_logger(weights_initial, mapped_inputs, targets, learning_rate, num_iterations)\n",
        "print(f\"Model has an error of {errors[-1]:.3f}\")\n",
        "fig = visualize_nonlinear_model(weights_learned, mapped_inputs, targets)\n",
        "fig.show()"
      ]
    },
    {
      "cell_type": "markdown",
      "metadata": {
        "id": "-ag3FqwomQyb"
      },
      "source": [
        "This looks really bad, and the error is really high. Perhaps looking at the error curve can help illuminate the issue."
      ]
    },
    {
      "cell_type": "code",
      "execution_count": null,
      "metadata": {
        "id": "yMnZx_2ZsJ_8"
      },
      "outputs": [],
      "source": [
        "def plot_error_curve(errors):\n",
        "    fig, ax = plt.subplots()\n",
        "    ax.plot(errors)\n",
        "    ax.set_ylim(0, 30)\n",
        "    return fig"
      ]
    },
    {
      "cell_type": "code",
      "execution_count": null,
      "metadata": {
        "id": "JwbBxvxixLPF",
        "colab": {
          "base_uri": "https://localhost:8080/",
          "height": 269
        },
        "outputId": "8d9164ee-2c8b-450a-a3e5-9a9f98dc05ed"
      },
      "outputs": [
        {
          "output_type": "display_data",
          "data": {
            "text/plain": [
              "<Figure size 432x288 with 1 Axes>"
            ],
            "image/png": "[encoded data removed]"
          },
          "metadata": {
            "needs_background": "light"
          }
        }
      ],
      "source": [
        "fig = plot_error_curve(errors)\n",
        "fig.show()"
      ]
    },
    {
      "cell_type": "markdown",
      "metadata": {
        "id": "G8oT1JHVn2KK"
      },
      "source": [
        "### Problem 9\n",
        "\n",
        "It seems that the error is still decreasing slowly. Perhaps changing some hyperparamters might help. Change the hyperparameters in the `fit_nonlinear_model` function so that your model obtain an error of less than 0.6."
      ]
    },
    {
      "cell_type": "code",
      "execution_count": null,
      "metadata": {
        "id": "fujaitCFph25"
      },
      "outputs": [],
      "source": [
        "def fit_nonlinear_model(inputs, targets):\n",
        "    mapped_inputs = basis_function(inputs)\n",
        "    weights_initial = torch.Tensor([1.0, 1.0, 1.0])\n",
        "    ### start modifying the code here ###\n",
        "    learning_rate = 0.003\n",
        "    num_iterations = 2000\n",
        "    ### stop modifying the code here ###\n",
        "    weights_learned, errors = gradient_descent_with_logger(weights_initial, mapped_inputs, targets, learning_rate, num_iterations)\n",
        "    fitted_figure = visualize_nonlinear_model(weights_learned, mapped_inputs, targets)\n",
        "    return weights_learned, errors, fitted_figure"
      ]
    },
    {
      "cell_type": "code",
      "execution_count": null,
      "metadata": {
        "id": "-eG5LbcOfgvp",
        "colab": {
          "base_uri": "https://localhost:8080/",
          "height": 282
        },
        "outputId": "f80dd1e5-c545-4041-c900-c7fad5011776"
      },
      "outputs": [
        {
          "output_type": "stream",
          "name": "stdout",
          "text": [
            "Model has an error of 0.398, which is less than the required error of 0.6.\n"
          ]
        },
        {
          "output_type": "display_data",
          "data": {
            "text/plain": [
              "<Figure size 432x288 with 1 Axes>"
            ],
            "image/png": "[encoded data removed]"
          },
          "metadata": {
            "needs_background": "light"
          }
        }
      ],
      "source": [
        "# Public testcase for fit_nonlinear_model\n",
        "\n",
        "torch.manual_seed(test_seed)\n",
        "weights_learned, errors, fitted_figure = fit_nonlinear_model(inputs, targets)\n",
        "error_relative_string = \"more\" if errors[-1] > 0.6 else \"less\"\n",
        "print(f\"Model has an error of {errors[-1]:.3f}, which is {error_relative_string} than the required error of 0.6.\")\n",
        "fitted_figure.show()"
      ]
    },
    {
      "cell_type": "code",
      "execution_count": null,
      "metadata": {
        "id": "2tcORvggxAuM",
        "colab": {
          "base_uri": "https://localhost:8080/",
          "height": 269
        },
        "outputId": "8443d30b-d779-412a-b3af-d9f059be5091"
      },
      "outputs": [
        {
          "output_type": "display_data",
          "data": {
            "text/plain": [
              "<Figure size 432x288 with 1 Axes>"
            ],
            "image/png": "[encoded data removed]"
          },
          "metadata": {
            "needs_background": "light"
          }
        }
      ],
      "source": [
        "error_figure = plot_error_curve(errors)\n",
        "error_figure.show()"
      ]
    }
  ],
  "metadata": {
    "colab": {
      "collapsed_sections": [],
      "name": "A0230317U_Assignment1",
      "provenance": [],
      "include_colab_link": true
    },
    "kernelspec": {
      "display_name": "Python 3",
      "name": "python3"
    },
    "language_info": {
      "name": "python"
    }
  },
  "nbformat": 4,
  "nbformat_minor": 0
}